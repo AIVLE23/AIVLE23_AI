{
 "cells": [
  {
   "cell_type": "code",
   "execution_count": 4,
   "metadata": {},
   "outputs": [],
   "source": [
    "import librosa\n",
    "from transformers import (\n",
    "    AutoFeatureExtractor,\n",
    "    AutoModelForCTC,\n",
    "    AutoTokenizer,\n",
    "    Wav2Vec2Processor\n",
    ")\n",
    "import unicodedata\n",
    "from transformers.pipelines import AutomaticSpeechRecognitionPipeline\n",
    "\n",
    "def hg_stt(audio):\n",
    "    \n",
    "    # audip_path에 audio 파일 넣으면 될 듯 한데 자세히는 모르겠습니다. librosa가 wav파일 있는 링크주면 자동으로 리샘플링해서\n",
    "    # 로우데이터로 바꿔주는 건데 작업하시면서 확인하셔야 할 것 같습니다.\n",
    "    audio_path = \"C:/Users/user/Downloads/131.인공지능 학습을 위한 외국인 한국어 발화 음성 데이터/01.데이터_new_20220719/2.Validation/원천데이터/VS_4. 중국어/5. 한국문화II/CN50QA286_CN0476_20211014.wav\"\n",
    "\n",
    "    \n",
    "    # 모델과 토크나이저, 예측을 위한 각 모듈들을 불러옵니다.\n",
    "    model = AutoModelForCTC.from_pretrained(\"42MARU/ko-spelling-wav2vec2-conformer-del-1s\")\n",
    "    feature_extractor = AutoFeatureExtractor.from_pretrained(\"42MARU/ko-spelling-wav2vec2-conformer-del-1s\")\n",
    "    tokenizer = AutoTokenizer.from_pretrained(\"42MARU/ko-spelling-wav2vec2-conformer-del-1s\")\n",
    "\n",
    "    processor = Wav2Vec2Processor(\n",
    "        feature_extractor=feature_extractor, tokenizer=tokenizer\n",
    "    )\n",
    "\n",
    "    # 실제 예측을 위한 파이프라인에 정의된 모듈들을 삽입.\n",
    "    asr_pipeline = AutomaticSpeechRecognitionPipeline(\n",
    "        model=model,\n",
    "        tokenizer=processor.tokenizer,\n",
    "        feature_extractor=processor.feature_extractor,\n",
    "        device=-1,\n",
    "    )\n",
    "\n",
    "    # 음성파일을 불러오고 resamling\n",
    "    raw_data, _ = librosa.load(audio_path, sr=16000)\n",
    "    pred = asr_pipeline(inputs=raw_data)[\"text\"]\n",
    "\n",
    "    # 모델이 자소 분리 유니코드 텍스트로 나오므로, 일반 String으로 변환해줄 필요가 있습니다.\n",
    "    result = unicodedata.normalize(\"NFC\", pred)\n",
    "    \n",
    "    return result"
   ]
  },
  {
   "cell_type": "code",
   "execution_count": 5,
   "metadata": {},
   "outputs": [
    {
     "name": "stderr",
     "output_type": "stream",
     "text": [
      "Some weights of the model checkpoint at 42MARU/ko-spelling-wav2vec2-conformer-del-1s were not used when initializing Wav2Vec2ConformerForCTC: ['wav2vec2_conformer.encoder.pos_conv_embed.conv.weight_g', 'wav2vec2_conformer.encoder.pos_conv_embed.conv.weight_v']\n",
      "- This IS expected if you are initializing Wav2Vec2ConformerForCTC from the checkpoint of a model trained on another task or with another architecture (e.g. initializing a BertForSequenceClassification model from a BertForPreTraining model).\n",
      "- This IS NOT expected if you are initializing Wav2Vec2ConformerForCTC from the checkpoint of a model that you expect to be exactly identical (initializing a BertForSequenceClassification model from a BertForSequenceClassification model).\n",
      "Some weights of Wav2Vec2ConformerForCTC were not initialized from the model checkpoint at 42MARU/ko-spelling-wav2vec2-conformer-del-1s and are newly initialized: ['wav2vec2_conformer.encoder.pos_conv_embed.conv.parametrizations.weight.original1', 'wav2vec2_conformer.encoder.pos_conv_embed.conv.parametrizations.weight.original0']\n",
      "You should probably TRAIN this model on a down-stream task to be able to use it for predictions and inference.\n"
     ]
    },
    {
     "data": {
      "text/plain": [
       "'한국에서 상대방에 나이를 물어보는 거에 대해서 음 이해하기 어려워요 아 나이가 많이 들면 딱 보면 알 수 있고 금 존경하면 되는데 근데 나이가 만약에 한두 살만 차이 나면 저는 친구로 지내는 거 더 편한 거 같애요'"
      ]
     },
     "execution_count": 5,
     "metadata": {},
     "output_type": "execute_result"
    }
   ],
   "source": [
    "hg_stt('ㅁ')"
   ]
  }
 ],
 "metadata": {
  "kernelspec": {
   "display_name": "base",
   "language": "python",
   "name": "python3"
  },
  "language_info": {
   "codemirror_mode": {
    "name": "ipython",
    "version": 3
   },
   "file_extension": ".py",
   "mimetype": "text/x-python",
   "name": "python",
   "nbconvert_exporter": "python",
   "pygments_lexer": "ipython3",
   "version": "3.11.3"
  }
 },
 "nbformat": 4,
 "nbformat_minor": 2
}
